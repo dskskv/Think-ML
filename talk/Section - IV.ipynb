{
 "cells": [
  {
   "cell_type": "markdown",
   "metadata": {
    "collapsed": true
   },
   "source": [
    "# Machine Learning Pipeline for classification"
   ]
  },
  {
   "cell_type": "code",
   "execution_count": null,
   "metadata": {
    "collapsed": true
   },
   "outputs": [],
   "source": [
    "# How to test a model and determine accuracy\n",
    "\n",
    "# Partition data into 2 sets, train and test\n",
    "\n",
    "# import a dataset\n",
    "from sklearn import datasets\n",
    "iris = datasets.load_iris()"
   ]
  },
  {
   "cell_type": "code",
   "execution_count": 3,
   "metadata": {
    "collapsed": true
   },
   "outputs": [],
   "source": [
    "# Can think of classifier as a function f(x) = y\n",
    "X = iris.data  # features\n",
    "y = iris.target  # labels\n"
   ]
  },
  {
   "cell_type": "code",
   "execution_count": 4,
   "metadata": {
    "collapsed": true
   },
   "outputs": [],
   "source": [
    "# partition into training and testing sets\n",
    "from sklearn.cross_validation import train_test_split\n"
   ]
  },
  {
   "cell_type": "code",
   "execution_count": 5,
   "metadata": {
    "collapsed": true
   },
   "outputs": [],
   "source": [
    "# test_size=0.5 -> split in half\n",
    "X_train, X_test, y_train, y_test = train_test_split(X, y, test_size=0.5)\n"
   ]
  },
  {
   "cell_type": "code",
   "execution_count": 6,
   "metadata": {
    "collapsed": true
   },
   "outputs": [],
   "source": [
    "# Classifier\n",
    "from sklearn import tree\n"
   ]
  },
  {
   "cell_type": "code",
   "execution_count": 7,
   "metadata": {
    "collapsed": false
   },
   "outputs": [
    {
     "data": {
      "text/plain": [
       "DecisionTreeClassifier(class_weight=None, criterion='gini', max_depth=None,\n",
       "            max_features=None, max_leaf_nodes=None, min_samples_leaf=1,\n",
       "            min_samples_split=2, min_weight_fraction_leaf=0.0,\n",
       "            presort=False, random_state=None, splitter='best')"
      ]
     },
     "execution_count": 7,
     "metadata": {},
     "output_type": "execute_result"
    }
   ],
   "source": [
    "my_classifier = tree.DecisionTreeClassifier()\n",
    "my_classifier.fit(X_train, y_train)\n"
   ]
  },
  {
   "cell_type": "code",
   "execution_count": 8,
   "metadata": {
    "collapsed": false
   },
   "outputs": [
    {
     "name": "stdout",
     "output_type": "stream",
     "text": [
      "[2 1 1 2 0 1 1 1 0 0 0 0 2 0 1 0 0 0 0 0 2 2 2 1 1 2 2 1 2 1 1 1 2 0 1 1 1\n",
      " 0 2 1 1 2 2 0 2 1 0 2 1 0 1 0 2 1 0 0 1 1 0 1 0 1 2 2 0 1 1 1 1 0 1 2 2 1\n",
      " 1]\n"
     ]
    }
   ],
   "source": [
    "# predict\n",
    "predictions = my_classifier.predict(X_test)\n",
    "print predictions\n"
   ]
  },
  {
   "cell_type": "code",
   "execution_count": 9,
   "metadata": {
    "collapsed": false
   },
   "outputs": [
    {
     "name": "stdout",
     "output_type": "stream",
     "text": [
      "0.893333333333\n"
     ]
    }
   ],
   "source": [
    "# test\n",
    "from sklearn.metrics import accuracy_score\n",
    "\n",
    "print accuracy_score(y_test, predictions)\n"
   ]
  },
  {
   "cell_type": "code",
   "execution_count": 10,
   "metadata": {
    "collapsed": false
   },
   "outputs": [
    {
     "data": {
      "text/plain": [
       "KNeighborsClassifier(algorithm='auto', leaf_size=30, metric='minkowski',\n",
       "           metric_params=None, n_jobs=1, n_neighbors=5, p=2,\n",
       "           weights='uniform')"
      ]
     },
     "execution_count": 10,
     "metadata": {},
     "output_type": "execute_result"
    }
   ],
   "source": [
    "# Repeat using KNN\n",
    "# Classifier\n",
    "from sklearn.neighbors import KNeighborsClassifier\n",
    "\n",
    "my_classifier = KNeighborsClassifier()\n",
    "my_classifier.fit(X_train, y_train)\n"
   ]
  },
  {
   "cell_type": "code",
   "execution_count": 11,
   "metadata": {
    "collapsed": false
   },
   "outputs": [
    {
     "name": "stdout",
     "output_type": "stream",
     "text": [
      "[2 1 1 2 0 1 1 1 0 0 0 0 2 0 2 0 0 0 0 0 2 2 2 1 1 2 2 1 2 1 1 2 2 0 1 2 1\n",
      " 0 2 2 1 2 2 0 2 1 0 2 1 0 1 0 2 1 0 0 1 1 0 2 0 1 2 2 0 1 1 1 1 0 1 2 2 2\n",
      " 2]\n"
     ]
    }
   ],
   "source": [
    "# predict\n",
    "predictions = my_classifier.predict(X_test)\n",
    "print predictions\n"
   ]
  },
  {
   "cell_type": "code",
   "execution_count": 12,
   "metadata": {
    "collapsed": false
   },
   "outputs": [
    {
     "name": "stdout",
     "output_type": "stream",
     "text": [
      "0.986666666667\n"
     ]
    }
   ],
   "source": [
    "# test\n",
    "from sklearn.metrics import accuracy_score\n",
    "\n",
    "print accuracy_score(y_test, predictions)"
   ]
  }
 ],
 "metadata": {
  "kernelspec": {
   "display_name": "Python [Root]",
   "language": "python",
   "name": "Python [Root]"
  },
  "language_info": {
   "codemirror_mode": {
    "name": "ipython",
    "version": 2
   },
   "file_extension": ".py",
   "mimetype": "text/x-python",
   "name": "python",
   "nbconvert_exporter": "python",
   "pygments_lexer": "ipython2",
   "version": "2.7.11"
  }
 },
 "nbformat": 4,
 "nbformat_minor": 0
}
